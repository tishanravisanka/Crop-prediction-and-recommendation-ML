{
 "cells": [
  {
   "cell_type": "markdown",
   "metadata": {
    "colab_type": "text",
    "id": "view-in-github"
   },
   "source": [
    "<a href=\"https://colab.research.google.com/github/arghac14/CropYield-prediction/blob/master/CropPrediction(Regression).ipynb\" target=\"_parent\"><img src=\"https://colab.research.google.com/assets/colab-badge.svg\" alt=\"Open In Colab\"/></a>"
   ]
  },
  {
   "cell_type": "code",
   "execution_count": 1,
   "metadata": {
    "colab": {},
    "colab_type": "code",
    "id": "6-muHbPWRFvq"
   },
   "outputs": [],
   "source": [
    "import pandas as pd\n",
    "import numpy as np\n",
    "import seaborn as sns\n",
    "import matplotlib.pyplot as plt\n",
    "from sklearn.preprocessing import LabelEncoder, OneHotEncoder\n",
    "from sklearn.model_selection import train_test_split\n",
    "from sklearn.preprocessing import StandardScaler\n",
    "from sklearn.decomposition import PCA\n",
    "from sklearn.ensemble import RandomForestRegressor\n",
    "from sklearn.model_selection import RandomizedSearchCV\n",
    "from sklearn.metrics import mean_squared_error\n",
    "import pickle"
   ]
  },
  {
   "cell_type": "code",
   "execution_count": 2,
   "metadata": {
    "colab": {
     "base_uri": "https://localhost:8080/",
     "height": 580
    },
    "colab_type": "code",
    "id": "OnoZ-JkYUhjD",
    "outputId": "c65c3800-318c-4517-bf72-a26f57daf270"
   },
   "outputs": [
    {
     "data": {
      "text/html": [
       "<div>\n",
       "<style scoped>\n",
       "    .dataframe tbody tr th:only-of-type {\n",
       "        vertical-align: middle;\n",
       "    }\n",
       "\n",
       "    .dataframe tbody tr th {\n",
       "        vertical-align: top;\n",
       "    }\n",
       "\n",
       "    .dataframe thead th {\n",
       "        text-align: right;\n",
       "    }\n",
       "</style>\n",
       "<table border=\"1\" class=\"dataframe\">\n",
       "  <thead>\n",
       "    <tr style=\"text-align: right;\">\n",
       "      <th></th>\n",
       "      <th>District</th>\n",
       "      <th>Year</th>\n",
       "      <th>Season</th>\n",
       "      <th>Yield</th>\n",
       "      <th>Month</th>\n",
       "      <th>Tempreture</th>\n",
       "      <th>Humidity</th>\n",
       "      <th>Rainfall</th>\n",
       "    </tr>\n",
       "  </thead>\n",
       "  <tbody>\n",
       "    <tr>\n",
       "      <th>0</th>\n",
       "      <td>Colombo</td>\n",
       "      <td>2015</td>\n",
       "      <td>Maha</td>\n",
       "      <td>3431</td>\n",
       "      <td>January</td>\n",
       "      <td>27.4</td>\n",
       "      <td>68.0</td>\n",
       "      <td>32.7</td>\n",
       "    </tr>\n",
       "    <tr>\n",
       "      <th>1</th>\n",
       "      <td>Colombo</td>\n",
       "      <td>2015</td>\n",
       "      <td>Maha</td>\n",
       "      <td>3431</td>\n",
       "      <td>February</td>\n",
       "      <td>25.7</td>\n",
       "      <td>70.0</td>\n",
       "      <td>122.5</td>\n",
       "    </tr>\n",
       "    <tr>\n",
       "      <th>2</th>\n",
       "      <td>Colombo</td>\n",
       "      <td>2015</td>\n",
       "      <td>Maha</td>\n",
       "      <td>3431</td>\n",
       "      <td>March</td>\n",
       "      <td>28.1</td>\n",
       "      <td>71.0</td>\n",
       "      <td>220.9</td>\n",
       "    </tr>\n",
       "    <tr>\n",
       "      <th>3</th>\n",
       "      <td>Colombo</td>\n",
       "      <td>2015</td>\n",
       "      <td>Maha</td>\n",
       "      <td>3431</td>\n",
       "      <td>October</td>\n",
       "      <td>27.8</td>\n",
       "      <td>78.0</td>\n",
       "      <td>235.4</td>\n",
       "    </tr>\n",
       "    <tr>\n",
       "      <th>4</th>\n",
       "      <td>Colombo</td>\n",
       "      <td>2015</td>\n",
       "      <td>Maha</td>\n",
       "      <td>3431</td>\n",
       "      <td>November</td>\n",
       "      <td>27.6</td>\n",
       "      <td>78.0</td>\n",
       "      <td>525.8</td>\n",
       "    </tr>\n",
       "  </tbody>\n",
       "</table>\n",
       "</div>"
      ],
      "text/plain": [
       "  District  Year Season  Yield     Month  Tempreture  Humidity  Rainfall\n",
       "0  Colombo  2015   Maha   3431   January        27.4      68.0      32.7\n",
       "1  Colombo  2015   Maha   3431  February        25.7      70.0     122.5\n",
       "2  Colombo  2015   Maha   3431     March        28.1      71.0     220.9\n",
       "3  Colombo  2015   Maha   3431   October        27.8      78.0     235.4\n",
       "4  Colombo  2015   Maha   3431  November        27.6      78.0     525.8"
      ]
     },
     "execution_count": 2,
     "metadata": {},
     "output_type": "execute_result"
    }
   ],
   "source": [
    "df_old = pd.read_csv(\"dataset.csv\")\n",
    "df_old.head()"
   ]
  },
  {
   "cell_type": "code",
   "execution_count": 49,
   "metadata": {},
   "outputs": [
    {
     "data": {
      "text/plain": [
       "Humidity                 1800\n",
       "Rainfall                 1800\n",
       "Yield                    1800\n",
       "District_Anuradhapura    1800\n",
       "District_Badulla         1800\n",
       "District_Batticaloa      1800\n",
       "District_Colombo         1800\n",
       "District_Galle           1800\n",
       "District_Gampaha         1800\n",
       "District_Hambantota      1800\n",
       "District_Jaffna          1800\n",
       "District_Kaluthara       1800\n",
       "District_Kandy           1800\n",
       "District_Kegalle         1800\n",
       "District_Kilinochchi     1800\n",
       "District_Kurunegala      1800\n",
       "District_Mannar          1800\n",
       "District_Matale          1800\n",
       "District_Matara          1800\n",
       "District_Monaragala      1800\n",
       "District_Mullaitivu      1800\n",
       "District_NuwaraEliya     1800\n",
       "District_Polonnaruwa     1800\n",
       "District_Puttalam        1800\n",
       "District_Ratnapura       1800\n",
       "District_Trincomalee     1800\n",
       "District_Vavuniya        1800\n",
       "Season_Yala              1800\n",
       "Tempreture               1800\n",
       "dtype: int64"
      ]
     },
     "execution_count": 49,
     "metadata": {},
     "output_type": "execute_result"
    }
   ],
   "source": [
    "df.count()"
   ]
  },
  {
   "cell_type": "markdown",
   "metadata": {},
   "source": [
    "#### Data pre-processing:"
   ]
  },
  {
   "cell_type": "markdown",
   "metadata": {},
   "source": [
    "Dropping unnecessary columns"
   ]
  },
  {
   "cell_type": "code",
   "execution_count": 4,
   "metadata": {},
   "outputs": [
    {
     "data": {
      "text/plain": [
       "District         0\n",
       "Year             0\n",
       "Season           0\n",
       "Yield            0\n",
       "Month          300\n",
       "Tempreture     600\n",
       "Humidity      1080\n",
       "Rainfall      1080\n",
       "dtype: int64"
      ]
     },
     "execution_count": 4,
     "metadata": {},
     "output_type": "execute_result"
    }
   ],
   "source": [
    "df_old.isnull().sum()"
   ]
  },
  {
   "cell_type": "code",
   "execution_count": 6,
   "metadata": {},
   "outputs": [],
   "source": [
    "#forward filling is used to fill out the missing values\n",
    "df_old = df_old.fillna(method = \"ffill\")"
   ]
  },
  {
   "cell_type": "code",
   "execution_count": 8,
   "metadata": {},
   "outputs": [
    {
     "data": {
      "text/plain": [
       "District      0\n",
       "Year          0\n",
       "Season        0\n",
       "Yield         0\n",
       "Month         0\n",
       "Tempreture    0\n",
       "Humidity      0\n",
       "Rainfall      0\n",
       "dtype: int64"
      ]
     },
     "execution_count": 8,
     "metadata": {},
     "output_type": "execute_result"
    }
   ],
   "source": [
    "df_old.isnull().sum()"
   ]
  },
  {
   "cell_type": "code",
   "execution_count": 9,
   "metadata": {},
   "outputs": [
    {
     "data": {
      "text/html": [
       "<div>\n",
       "<style scoped>\n",
       "    .dataframe tbody tr th:only-of-type {\n",
       "        vertical-align: middle;\n",
       "    }\n",
       "\n",
       "    .dataframe tbody tr th {\n",
       "        vertical-align: top;\n",
       "    }\n",
       "\n",
       "    .dataframe thead th {\n",
       "        text-align: right;\n",
       "    }\n",
       "</style>\n",
       "<table border=\"1\" class=\"dataframe\">\n",
       "  <thead>\n",
       "    <tr style=\"text-align: right;\">\n",
       "      <th></th>\n",
       "      <th>District</th>\n",
       "      <th>Season</th>\n",
       "      <th>Yield</th>\n",
       "      <th>Tempreture</th>\n",
       "      <th>Humidity</th>\n",
       "      <th>Rainfall</th>\n",
       "    </tr>\n",
       "  </thead>\n",
       "  <tbody>\n",
       "    <tr>\n",
       "      <th>0</th>\n",
       "      <td>Colombo</td>\n",
       "      <td>Maha</td>\n",
       "      <td>3431</td>\n",
       "      <td>27.4</td>\n",
       "      <td>68.0</td>\n",
       "      <td>32.7</td>\n",
       "    </tr>\n",
       "    <tr>\n",
       "      <th>1</th>\n",
       "      <td>Colombo</td>\n",
       "      <td>Maha</td>\n",
       "      <td>3431</td>\n",
       "      <td>25.7</td>\n",
       "      <td>70.0</td>\n",
       "      <td>122.5</td>\n",
       "    </tr>\n",
       "    <tr>\n",
       "      <th>2</th>\n",
       "      <td>Colombo</td>\n",
       "      <td>Maha</td>\n",
       "      <td>3431</td>\n",
       "      <td>28.1</td>\n",
       "      <td>71.0</td>\n",
       "      <td>220.9</td>\n",
       "    </tr>\n",
       "    <tr>\n",
       "      <th>3</th>\n",
       "      <td>Colombo</td>\n",
       "      <td>Maha</td>\n",
       "      <td>3431</td>\n",
       "      <td>27.8</td>\n",
       "      <td>78.0</td>\n",
       "      <td>235.4</td>\n",
       "    </tr>\n",
       "    <tr>\n",
       "      <th>4</th>\n",
       "      <td>Colombo</td>\n",
       "      <td>Maha</td>\n",
       "      <td>3431</td>\n",
       "      <td>27.6</td>\n",
       "      <td>78.0</td>\n",
       "      <td>525.8</td>\n",
       "    </tr>\n",
       "  </tbody>\n",
       "</table>\n",
       "</div>"
      ],
      "text/plain": [
       "  District Season  Yield  Tempreture  Humidity  Rainfall\n",
       "0  Colombo   Maha   3431        27.4      68.0      32.7\n",
       "1  Colombo   Maha   3431        25.7      70.0     122.5\n",
       "2  Colombo   Maha   3431        28.1      71.0     220.9\n",
       "3  Colombo   Maha   3431        27.8      78.0     235.4\n",
       "4  Colombo   Maha   3431        27.6      78.0     525.8"
      ]
     },
     "execution_count": 9,
     "metadata": {},
     "output_type": "execute_result"
    }
   ],
   "source": [
    "df = df_old.drop([\"Year\",\"Month\"], axis = 1)\n",
    "df.head()\n",
    "\n"
   ]
  },
  {
   "cell_type": "code",
   "execution_count": 10,
   "metadata": {},
   "outputs": [
    {
     "name": "stdout",
     "output_type": "stream",
     "text": [
      "['Colombo' 'Gampaha' 'Kaluthara' 'Galle' 'Matara' 'Ratnapura' 'Kegalle'\n",
      " 'Kurunegala' 'Puttalam' 'Kandy' 'Matale' 'NuwaraEliya' 'Badulla'\n",
      " 'Monaragala' 'Jaffna' 'Kilinochchi' 'Vavuniya' 'Mullaitivu' 'Mannar'\n",
      " 'Anuradhapura' 'Polonnaruwa' 'Trincomalee' 'Batticaloa' 'Ampara'\n",
      " 'Hambantota']\n"
     ]
    }
   ],
   "source": [
    "print(df[\"District\"].unique())"
   ]
  },
  {
   "cell_type": "markdown",
   "metadata": {},
   "source": [
    "reorganizing columns"
   ]
  },
  {
   "cell_type": "code",
   "execution_count": 13,
   "metadata": {},
   "outputs": [
    {
     "data": {
      "text/html": [
       "<div>\n",
       "<style scoped>\n",
       "    .dataframe tbody tr th:only-of-type {\n",
       "        vertical-align: middle;\n",
       "    }\n",
       "\n",
       "    .dataframe tbody tr th {\n",
       "        vertical-align: top;\n",
       "    }\n",
       "\n",
       "    .dataframe thead th {\n",
       "        text-align: right;\n",
       "    }\n",
       "</style>\n",
       "<table border=\"1\" class=\"dataframe\">\n",
       "  <thead>\n",
       "    <tr style=\"text-align: right;\">\n",
       "      <th></th>\n",
       "      <th>District</th>\n",
       "      <th>Season</th>\n",
       "      <th>Humidity</th>\n",
       "      <th>Rainfall</th>\n",
       "      <th>Yield</th>\n",
       "      <th>Tempreture</th>\n",
       "    </tr>\n",
       "  </thead>\n",
       "  <tbody>\n",
       "    <tr>\n",
       "      <th>0</th>\n",
       "      <td>Colombo</td>\n",
       "      <td>Maha</td>\n",
       "      <td>68.0</td>\n",
       "      <td>32.7</td>\n",
       "      <td>3431</td>\n",
       "      <td>27.4</td>\n",
       "    </tr>\n",
       "    <tr>\n",
       "      <th>1</th>\n",
       "      <td>Colombo</td>\n",
       "      <td>Maha</td>\n",
       "      <td>70.0</td>\n",
       "      <td>122.5</td>\n",
       "      <td>3431</td>\n",
       "      <td>25.7</td>\n",
       "    </tr>\n",
       "    <tr>\n",
       "      <th>2</th>\n",
       "      <td>Colombo</td>\n",
       "      <td>Maha</td>\n",
       "      <td>71.0</td>\n",
       "      <td>220.9</td>\n",
       "      <td>3431</td>\n",
       "      <td>28.1</td>\n",
       "    </tr>\n",
       "    <tr>\n",
       "      <th>3</th>\n",
       "      <td>Colombo</td>\n",
       "      <td>Maha</td>\n",
       "      <td>78.0</td>\n",
       "      <td>235.4</td>\n",
       "      <td>3431</td>\n",
       "      <td>27.8</td>\n",
       "    </tr>\n",
       "    <tr>\n",
       "      <th>4</th>\n",
       "      <td>Colombo</td>\n",
       "      <td>Maha</td>\n",
       "      <td>78.0</td>\n",
       "      <td>525.8</td>\n",
       "      <td>3431</td>\n",
       "      <td>27.6</td>\n",
       "    </tr>\n",
       "  </tbody>\n",
       "</table>\n",
       "</div>"
      ],
      "text/plain": [
       "  District Season  Humidity  Rainfall  Yield  Tempreture\n",
       "0  Colombo   Maha      68.0      32.7   3431        27.4\n",
       "1  Colombo   Maha      70.0     122.5   3431        25.7\n",
       "2  Colombo   Maha      71.0     220.9   3431        28.1\n",
       "3  Colombo   Maha      78.0     235.4   3431        27.8\n",
       "4  Colombo   Maha      78.0     525.8   3431        27.6"
      ]
     },
     "execution_count": 13,
     "metadata": {},
     "output_type": "execute_result"
    }
   ],
   "source": [
    "df = df.iloc[:,[0,1,3,4,5,2]]\n",
    "df.head()"
   ]
  },
  {
   "cell_type": "code",
   "execution_count": 14,
   "metadata": {},
   "outputs": [
    {
     "data": {
      "text/html": [
       "<div>\n",
       "<style scoped>\n",
       "    .dataframe tbody tr th:only-of-type {\n",
       "        vertical-align: middle;\n",
       "    }\n",
       "\n",
       "    .dataframe tbody tr th {\n",
       "        vertical-align: top;\n",
       "    }\n",
       "\n",
       "    .dataframe thead th {\n",
       "        text-align: right;\n",
       "    }\n",
       "</style>\n",
       "<table border=\"1\" class=\"dataframe\">\n",
       "  <thead>\n",
       "    <tr style=\"text-align: right;\">\n",
       "      <th></th>\n",
       "      <th>Humidity</th>\n",
       "      <th>Rainfall</th>\n",
       "      <th>Yield</th>\n",
       "      <th>Tempreture</th>\n",
       "      <th>District_Anuradhapura</th>\n",
       "      <th>District_Badulla</th>\n",
       "      <th>District_Batticaloa</th>\n",
       "      <th>District_Colombo</th>\n",
       "      <th>District_Galle</th>\n",
       "      <th>District_Gampaha</th>\n",
       "      <th>...</th>\n",
       "      <th>District_Matara</th>\n",
       "      <th>District_Monaragala</th>\n",
       "      <th>District_Mullaitivu</th>\n",
       "      <th>District_NuwaraEliya</th>\n",
       "      <th>District_Polonnaruwa</th>\n",
       "      <th>District_Puttalam</th>\n",
       "      <th>District_Ratnapura</th>\n",
       "      <th>District_Trincomalee</th>\n",
       "      <th>District_Vavuniya</th>\n",
       "      <th>Season_Yala</th>\n",
       "    </tr>\n",
       "  </thead>\n",
       "  <tbody>\n",
       "    <tr>\n",
       "      <th>0</th>\n",
       "      <td>68.0</td>\n",
       "      <td>32.7</td>\n",
       "      <td>3431</td>\n",
       "      <td>27.4</td>\n",
       "      <td>0</td>\n",
       "      <td>0</td>\n",
       "      <td>0</td>\n",
       "      <td>1</td>\n",
       "      <td>0</td>\n",
       "      <td>0</td>\n",
       "      <td>...</td>\n",
       "      <td>0</td>\n",
       "      <td>0</td>\n",
       "      <td>0</td>\n",
       "      <td>0</td>\n",
       "      <td>0</td>\n",
       "      <td>0</td>\n",
       "      <td>0</td>\n",
       "      <td>0</td>\n",
       "      <td>0</td>\n",
       "      <td>0</td>\n",
       "    </tr>\n",
       "    <tr>\n",
       "      <th>1</th>\n",
       "      <td>70.0</td>\n",
       "      <td>122.5</td>\n",
       "      <td>3431</td>\n",
       "      <td>25.7</td>\n",
       "      <td>0</td>\n",
       "      <td>0</td>\n",
       "      <td>0</td>\n",
       "      <td>1</td>\n",
       "      <td>0</td>\n",
       "      <td>0</td>\n",
       "      <td>...</td>\n",
       "      <td>0</td>\n",
       "      <td>0</td>\n",
       "      <td>0</td>\n",
       "      <td>0</td>\n",
       "      <td>0</td>\n",
       "      <td>0</td>\n",
       "      <td>0</td>\n",
       "      <td>0</td>\n",
       "      <td>0</td>\n",
       "      <td>0</td>\n",
       "    </tr>\n",
       "    <tr>\n",
       "      <th>2</th>\n",
       "      <td>71.0</td>\n",
       "      <td>220.9</td>\n",
       "      <td>3431</td>\n",
       "      <td>28.1</td>\n",
       "      <td>0</td>\n",
       "      <td>0</td>\n",
       "      <td>0</td>\n",
       "      <td>1</td>\n",
       "      <td>0</td>\n",
       "      <td>0</td>\n",
       "      <td>...</td>\n",
       "      <td>0</td>\n",
       "      <td>0</td>\n",
       "      <td>0</td>\n",
       "      <td>0</td>\n",
       "      <td>0</td>\n",
       "      <td>0</td>\n",
       "      <td>0</td>\n",
       "      <td>0</td>\n",
       "      <td>0</td>\n",
       "      <td>0</td>\n",
       "    </tr>\n",
       "    <tr>\n",
       "      <th>3</th>\n",
       "      <td>78.0</td>\n",
       "      <td>235.4</td>\n",
       "      <td>3431</td>\n",
       "      <td>27.8</td>\n",
       "      <td>0</td>\n",
       "      <td>0</td>\n",
       "      <td>0</td>\n",
       "      <td>1</td>\n",
       "      <td>0</td>\n",
       "      <td>0</td>\n",
       "      <td>...</td>\n",
       "      <td>0</td>\n",
       "      <td>0</td>\n",
       "      <td>0</td>\n",
       "      <td>0</td>\n",
       "      <td>0</td>\n",
       "      <td>0</td>\n",
       "      <td>0</td>\n",
       "      <td>0</td>\n",
       "      <td>0</td>\n",
       "      <td>0</td>\n",
       "    </tr>\n",
       "    <tr>\n",
       "      <th>4</th>\n",
       "      <td>78.0</td>\n",
       "      <td>525.8</td>\n",
       "      <td>3431</td>\n",
       "      <td>27.6</td>\n",
       "      <td>0</td>\n",
       "      <td>0</td>\n",
       "      <td>0</td>\n",
       "      <td>1</td>\n",
       "      <td>0</td>\n",
       "      <td>0</td>\n",
       "      <td>...</td>\n",
       "      <td>0</td>\n",
       "      <td>0</td>\n",
       "      <td>0</td>\n",
       "      <td>0</td>\n",
       "      <td>0</td>\n",
       "      <td>0</td>\n",
       "      <td>0</td>\n",
       "      <td>0</td>\n",
       "      <td>0</td>\n",
       "      <td>0</td>\n",
       "    </tr>\n",
       "  </tbody>\n",
       "</table>\n",
       "<p>5 rows × 29 columns</p>\n",
       "</div>"
      ],
      "text/plain": [
       "   Humidity  Rainfall  Yield  Tempreture  District_Anuradhapura  \\\n",
       "0      68.0      32.7   3431        27.4                      0   \n",
       "1      70.0     122.5   3431        25.7                      0   \n",
       "2      71.0     220.9   3431        28.1                      0   \n",
       "3      78.0     235.4   3431        27.8                      0   \n",
       "4      78.0     525.8   3431        27.6                      0   \n",
       "\n",
       "   District_Badulla  District_Batticaloa  District_Colombo  District_Galle  \\\n",
       "0                 0                    0                 1               0   \n",
       "1                 0                    0                 1               0   \n",
       "2                 0                    0                 1               0   \n",
       "3                 0                    0                 1               0   \n",
       "4                 0                    0                 1               0   \n",
       "\n",
       "   District_Gampaha  ...  District_Matara  District_Monaragala  \\\n",
       "0                 0  ...                0                    0   \n",
       "1                 0  ...                0                    0   \n",
       "2                 0  ...                0                    0   \n",
       "3                 0  ...                0                    0   \n",
       "4                 0  ...                0                    0   \n",
       "\n",
       "   District_Mullaitivu  District_NuwaraEliya  District_Polonnaruwa  \\\n",
       "0                    0                     0                     0   \n",
       "1                    0                     0                     0   \n",
       "2                    0                     0                     0   \n",
       "3                    0                     0                     0   \n",
       "4                    0                     0                     0   \n",
       "\n",
       "   District_Puttalam  District_Ratnapura  District_Trincomalee  \\\n",
       "0                  0                   0                     0   \n",
       "1                  0                   0                     0   \n",
       "2                  0                   0                     0   \n",
       "3                  0                   0                     0   \n",
       "4                  0                   0                     0   \n",
       "\n",
       "   District_Vavuniya  Season_Yala  \n",
       "0                  0            0  \n",
       "1                  0            0  \n",
       "2                  0            0  \n",
       "3                  0            0  \n",
       "4                  0            0  \n",
       "\n",
       "[5 rows x 29 columns]"
      ]
     },
     "execution_count": 14,
     "metadata": {},
     "output_type": "execute_result"
    }
   ],
   "source": [
    "df = pd.get_dummies(df,drop_first = True)\n",
    "df.head()"
   ]
  },
  {
   "cell_type": "markdown",
   "metadata": {},
   "source": [
    "reorganizing columns"
   ]
  },
  {
   "cell_type": "code",
   "execution_count": 15,
   "metadata": {},
   "outputs": [
    {
     "data": {
      "text/html": [
       "<div>\n",
       "<style scoped>\n",
       "    .dataframe tbody tr th:only-of-type {\n",
       "        vertical-align: middle;\n",
       "    }\n",
       "\n",
       "    .dataframe tbody tr th {\n",
       "        vertical-align: top;\n",
       "    }\n",
       "\n",
       "    .dataframe thead th {\n",
       "        text-align: right;\n",
       "    }\n",
       "</style>\n",
       "<table border=\"1\" class=\"dataframe\">\n",
       "  <thead>\n",
       "    <tr style=\"text-align: right;\">\n",
       "      <th></th>\n",
       "      <th>Humidity</th>\n",
       "      <th>Rainfall</th>\n",
       "      <th>Yield</th>\n",
       "      <th>District_Anuradhapura</th>\n",
       "      <th>District_Badulla</th>\n",
       "      <th>District_Batticaloa</th>\n",
       "      <th>District_Colombo</th>\n",
       "      <th>District_Galle</th>\n",
       "      <th>District_Gampaha</th>\n",
       "      <th>District_Hambantota</th>\n",
       "      <th>...</th>\n",
       "      <th>District_Monaragala</th>\n",
       "      <th>District_Mullaitivu</th>\n",
       "      <th>District_NuwaraEliya</th>\n",
       "      <th>District_Polonnaruwa</th>\n",
       "      <th>District_Puttalam</th>\n",
       "      <th>District_Ratnapura</th>\n",
       "      <th>District_Trincomalee</th>\n",
       "      <th>District_Vavuniya</th>\n",
       "      <th>Season_Yala</th>\n",
       "      <th>Tempreture</th>\n",
       "    </tr>\n",
       "  </thead>\n",
       "  <tbody>\n",
       "    <tr>\n",
       "      <th>0</th>\n",
       "      <td>68.0</td>\n",
       "      <td>32.7</td>\n",
       "      <td>3431</td>\n",
       "      <td>0</td>\n",
       "      <td>0</td>\n",
       "      <td>0</td>\n",
       "      <td>1</td>\n",
       "      <td>0</td>\n",
       "      <td>0</td>\n",
       "      <td>0</td>\n",
       "      <td>...</td>\n",
       "      <td>0</td>\n",
       "      <td>0</td>\n",
       "      <td>0</td>\n",
       "      <td>0</td>\n",
       "      <td>0</td>\n",
       "      <td>0</td>\n",
       "      <td>0</td>\n",
       "      <td>0</td>\n",
       "      <td>0</td>\n",
       "      <td>27.4</td>\n",
       "    </tr>\n",
       "    <tr>\n",
       "      <th>1</th>\n",
       "      <td>70.0</td>\n",
       "      <td>122.5</td>\n",
       "      <td>3431</td>\n",
       "      <td>0</td>\n",
       "      <td>0</td>\n",
       "      <td>0</td>\n",
       "      <td>1</td>\n",
       "      <td>0</td>\n",
       "      <td>0</td>\n",
       "      <td>0</td>\n",
       "      <td>...</td>\n",
       "      <td>0</td>\n",
       "      <td>0</td>\n",
       "      <td>0</td>\n",
       "      <td>0</td>\n",
       "      <td>0</td>\n",
       "      <td>0</td>\n",
       "      <td>0</td>\n",
       "      <td>0</td>\n",
       "      <td>0</td>\n",
       "      <td>25.7</td>\n",
       "    </tr>\n",
       "    <tr>\n",
       "      <th>2</th>\n",
       "      <td>71.0</td>\n",
       "      <td>220.9</td>\n",
       "      <td>3431</td>\n",
       "      <td>0</td>\n",
       "      <td>0</td>\n",
       "      <td>0</td>\n",
       "      <td>1</td>\n",
       "      <td>0</td>\n",
       "      <td>0</td>\n",
       "      <td>0</td>\n",
       "      <td>...</td>\n",
       "      <td>0</td>\n",
       "      <td>0</td>\n",
       "      <td>0</td>\n",
       "      <td>0</td>\n",
       "      <td>0</td>\n",
       "      <td>0</td>\n",
       "      <td>0</td>\n",
       "      <td>0</td>\n",
       "      <td>0</td>\n",
       "      <td>28.1</td>\n",
       "    </tr>\n",
       "    <tr>\n",
       "      <th>3</th>\n",
       "      <td>78.0</td>\n",
       "      <td>235.4</td>\n",
       "      <td>3431</td>\n",
       "      <td>0</td>\n",
       "      <td>0</td>\n",
       "      <td>0</td>\n",
       "      <td>1</td>\n",
       "      <td>0</td>\n",
       "      <td>0</td>\n",
       "      <td>0</td>\n",
       "      <td>...</td>\n",
       "      <td>0</td>\n",
       "      <td>0</td>\n",
       "      <td>0</td>\n",
       "      <td>0</td>\n",
       "      <td>0</td>\n",
       "      <td>0</td>\n",
       "      <td>0</td>\n",
       "      <td>0</td>\n",
       "      <td>0</td>\n",
       "      <td>27.8</td>\n",
       "    </tr>\n",
       "    <tr>\n",
       "      <th>4</th>\n",
       "      <td>78.0</td>\n",
       "      <td>525.8</td>\n",
       "      <td>3431</td>\n",
       "      <td>0</td>\n",
       "      <td>0</td>\n",
       "      <td>0</td>\n",
       "      <td>1</td>\n",
       "      <td>0</td>\n",
       "      <td>0</td>\n",
       "      <td>0</td>\n",
       "      <td>...</td>\n",
       "      <td>0</td>\n",
       "      <td>0</td>\n",
       "      <td>0</td>\n",
       "      <td>0</td>\n",
       "      <td>0</td>\n",
       "      <td>0</td>\n",
       "      <td>0</td>\n",
       "      <td>0</td>\n",
       "      <td>0</td>\n",
       "      <td>27.6</td>\n",
       "    </tr>\n",
       "  </tbody>\n",
       "</table>\n",
       "<p>5 rows × 29 columns</p>\n",
       "</div>"
      ],
      "text/plain": [
       "   Humidity  Rainfall  Yield  District_Anuradhapura  District_Badulla  \\\n",
       "0      68.0      32.7   3431                      0                 0   \n",
       "1      70.0     122.5   3431                      0                 0   \n",
       "2      71.0     220.9   3431                      0                 0   \n",
       "3      78.0     235.4   3431                      0                 0   \n",
       "4      78.0     525.8   3431                      0                 0   \n",
       "\n",
       "   District_Batticaloa  District_Colombo  District_Galle  District_Gampaha  \\\n",
       "0                    0                 1               0                 0   \n",
       "1                    0                 1               0                 0   \n",
       "2                    0                 1               0                 0   \n",
       "3                    0                 1               0                 0   \n",
       "4                    0                 1               0                 0   \n",
       "\n",
       "   District_Hambantota  ...  District_Monaragala  District_Mullaitivu  \\\n",
       "0                    0  ...                    0                    0   \n",
       "1                    0  ...                    0                    0   \n",
       "2                    0  ...                    0                    0   \n",
       "3                    0  ...                    0                    0   \n",
       "4                    0  ...                    0                    0   \n",
       "\n",
       "   District_NuwaraEliya  District_Polonnaruwa  District_Puttalam  \\\n",
       "0                     0                     0                  0   \n",
       "1                     0                     0                  0   \n",
       "2                     0                     0                  0   \n",
       "3                     0                     0                  0   \n",
       "4                     0                     0                  0   \n",
       "\n",
       "   District_Ratnapura  District_Trincomalee  District_Vavuniya  Season_Yala  \\\n",
       "0                   0                     0                  0            0   \n",
       "1                   0                     0                  0            0   \n",
       "2                   0                     0                  0            0   \n",
       "3                   0                     0                  0            0   \n",
       "4                   0                     0                  0            0   \n",
       "\n",
       "   Tempreture  \n",
       "0        27.4  \n",
       "1        25.7  \n",
       "2        28.1  \n",
       "3        27.8  \n",
       "4        27.6  \n",
       "\n",
       "[5 rows x 29 columns]"
      ]
     },
     "execution_count": 15,
     "metadata": {},
     "output_type": "execute_result"
    }
   ],
   "source": [
    "df = df.iloc[:,[0,1,2,4,5,6,7,8,9,10,11,12,13,14,15,16,17,18,19,20,21,22,23,24,25,26,27,28,3]]\n",
    "df.head()"
   ]
  },
  {
   "cell_type": "code",
   "execution_count": 16,
   "metadata": {},
   "outputs": [
    {
     "data": {
      "text/plain": [
       "<AxesSubplot:>"
      ]
     },
     "execution_count": 16,
     "metadata": {},
     "output_type": "execute_result"
    },
    {
     "data": {
      "image/png": "[encoded data removed]",
      "text/plain": [
       "<Figure size 432x288 with 2 Axes>"
      ]
     },
     "metadata": {
      "needs_background": "light"
     },
     "output_type": "display_data"
    }
   ],
   "source": [
    "mask = np.triu(df.corr())\n",
    "sns.heatmap(df.corr(),mask=mask,annot=True)"
   ]
  },
  {
   "cell_type": "markdown",
   "metadata": {},
   "source": [
    "#### scaling data:"
   ]
  },
  {
   "cell_type": "code",
   "execution_count": 17,
   "metadata": {},
   "outputs": [],
   "source": [
    "x = df.iloc[:,:28].values\n",
    "y = df.iloc[:,28].values\n",
    "\n",
    "x_train,x_test,y_train,y_test=train_test_split(x,y, test_size=0.2, random_state=0)\n"
   ]
  },
  {
   "cell_type": "code",
   "execution_count": 18,
   "metadata": {},
   "outputs": [],
   "source": [
    "ss = StandardScaler()\n",
    "\n",
    "x_train_scaled = ss.fit_transform(x_train)\n",
    "x_test_scaled = ss.transform(x_test)\n",
    "y_train = np.array(y_train)"
   ]
  },
  {
   "cell_type": "markdown",
   "metadata": {},
   "source": [
    "#### principal component analysis:"
   ]
  },
  {
   "cell_type": "code",
   "execution_count": 19,
   "metadata": {},
   "outputs": [],
   "source": [
    "pc = PCA(n_components=28)\n"
   ]
  },
  {
   "cell_type": "code",
   "execution_count": 20,
   "metadata": {},
   "outputs": [
    {
     "data": {
      "text/plain": [
       "PCA(n_components=28)"
      ]
     },
     "execution_count": 20,
     "metadata": {},
     "output_type": "execute_result"
    }
   ],
   "source": [
    "pc.fit(x_train_scaled)"
   ]
  },
  {
   "cell_type": "code",
   "execution_count": 22,
   "metadata": {},
   "outputs": [
    {
     "data": {
      "image/png": "[encoded data removed]",
      "text/plain": [
       "<Figure size 432x288 with 1 Axes>"
      ]
     },
     "metadata": {},
     "output_type": "display_data"
    },
    {
     "data": {
      "text/plain": [
       "None"
      ]
     },
     "metadata": {},
     "output_type": "display_data"
    }
   ],
   "source": [
    "sns.set(style='whitegrid')\n",
    "plt.plot(np.cumsum(pc.explained_variance_ratio_))\n",
    "plt.xlabel('number of components')\n",
    "plt.ylabel('cumulative explained variance')\n",
    "plt.axvline(linewidth=4, color='r', linestyle = '--', x=22, ymin=0, ymax=1)\n",
    "display(plt.show())"
   ]
  },
  {
   "cell_type": "code",
   "execution_count": 25,
   "metadata": {},
   "outputs": [
    {
     "data": {
      "text/html": [
       "<div>\n",
       "<style scoped>\n",
       "    .dataframe tbody tr th:only-of-type {\n",
       "        vertical-align: middle;\n",
       "    }\n",
       "\n",
       "    .dataframe tbody tr th {\n",
       "        vertical-align: top;\n",
       "    }\n",
       "\n",
       "    .dataframe thead th {\n",
       "        text-align: right;\n",
       "    }\n",
       "</style>\n",
       "<table border=\"1\" class=\"dataframe\">\n",
       "  <thead>\n",
       "    <tr style=\"text-align: right;\">\n",
       "      <th></th>\n",
       "      <th>PC1</th>\n",
       "      <th>PC2</th>\n",
       "      <th>PC3</th>\n",
       "      <th>PC4</th>\n",
       "      <th>PC5</th>\n",
       "      <th>PC6</th>\n",
       "      <th>PC7</th>\n",
       "      <th>PC8</th>\n",
       "      <th>PC9</th>\n",
       "      <th>PC10</th>\n",
       "      <th>...</th>\n",
       "      <th>PC13</th>\n",
       "      <th>PC14</th>\n",
       "      <th>PC15</th>\n",
       "      <th>PC16</th>\n",
       "      <th>PC17</th>\n",
       "      <th>PC18</th>\n",
       "      <th>PC19</th>\n",
       "      <th>PC20</th>\n",
       "      <th>PC21</th>\n",
       "      <th>PC22</th>\n",
       "    </tr>\n",
       "  </thead>\n",
       "  <tbody>\n",
       "    <tr>\n",
       "      <th>0</th>\n",
       "      <td>1.412460</td>\n",
       "      <td>-0.392988</td>\n",
       "      <td>-0.228405</td>\n",
       "      <td>-0.406027</td>\n",
       "      <td>0.006027</td>\n",
       "      <td>0.034436</td>\n",
       "      <td>-0.236285</td>\n",
       "      <td>-0.159214</td>\n",
       "      <td>0.048904</td>\n",
       "      <td>-0.254319</td>\n",
       "      <td>...</td>\n",
       "      <td>-0.147841</td>\n",
       "      <td>-0.227555</td>\n",
       "      <td>0.358372</td>\n",
       "      <td>4.420657</td>\n",
       "      <td>1.808428</td>\n",
       "      <td>0.307179</td>\n",
       "      <td>-0.358078</td>\n",
       "      <td>0.668596</td>\n",
       "      <td>-0.295642</td>\n",
       "      <td>-0.190861</td>\n",
       "    </tr>\n",
       "    <tr>\n",
       "      <th>1</th>\n",
       "      <td>5.104406</td>\n",
       "      <td>1.834187</td>\n",
       "      <td>-1.176723</td>\n",
       "      <td>-0.785854</td>\n",
       "      <td>0.148394</td>\n",
       "      <td>0.910066</td>\n",
       "      <td>-0.688184</td>\n",
       "      <td>-0.190636</td>\n",
       "      <td>0.119128</td>\n",
       "      <td>-0.679007</td>\n",
       "      <td>...</td>\n",
       "      <td>1.118402</td>\n",
       "      <td>1.322087</td>\n",
       "      <td>1.512135</td>\n",
       "      <td>-0.990502</td>\n",
       "      <td>-0.419874</td>\n",
       "      <td>-0.294223</td>\n",
       "      <td>-0.112538</td>\n",
       "      <td>0.032200</td>\n",
       "      <td>-0.237126</td>\n",
       "      <td>-0.712469</td>\n",
       "    </tr>\n",
       "    <tr>\n",
       "      <th>2</th>\n",
       "      <td>-0.599578</td>\n",
       "      <td>-0.518549</td>\n",
       "      <td>0.019404</td>\n",
       "      <td>-2.022029</td>\n",
       "      <td>0.006147</td>\n",
       "      <td>-0.089308</td>\n",
       "      <td>-0.251353</td>\n",
       "      <td>0.247358</td>\n",
       "      <td>0.003091</td>\n",
       "      <td>-0.060503</td>\n",
       "      <td>...</td>\n",
       "      <td>0.330510</td>\n",
       "      <td>-1.921200</td>\n",
       "      <td>1.155577</td>\n",
       "      <td>-0.537097</td>\n",
       "      <td>0.046371</td>\n",
       "      <td>3.739185</td>\n",
       "      <td>0.466024</td>\n",
       "      <td>-0.127727</td>\n",
       "      <td>-0.502885</td>\n",
       "      <td>-1.210310</td>\n",
       "    </tr>\n",
       "    <tr>\n",
       "      <th>3</th>\n",
       "      <td>-0.149624</td>\n",
       "      <td>-0.605479</td>\n",
       "      <td>0.019832</td>\n",
       "      <td>1.475860</td>\n",
       "      <td>-0.107482</td>\n",
       "      <td>-0.377173</td>\n",
       "      <td>-0.461394</td>\n",
       "      <td>-0.495557</td>\n",
       "      <td>0.160753</td>\n",
       "      <td>-1.230238</td>\n",
       "      <td>...</td>\n",
       "      <td>3.914927</td>\n",
       "      <td>0.488470</td>\n",
       "      <td>-1.507031</td>\n",
       "      <td>0.104670</td>\n",
       "      <td>-0.590836</td>\n",
       "      <td>0.491952</td>\n",
       "      <td>-0.250376</td>\n",
       "      <td>0.504108</td>\n",
       "      <td>-0.059507</td>\n",
       "      <td>0.192706</td>\n",
       "    </tr>\n",
       "    <tr>\n",
       "      <th>4</th>\n",
       "      <td>-1.693566</td>\n",
       "      <td>1.002452</td>\n",
       "      <td>0.715359</td>\n",
       "      <td>1.647585</td>\n",
       "      <td>-0.030536</td>\n",
       "      <td>-0.227489</td>\n",
       "      <td>0.078169</td>\n",
       "      <td>-0.133987</td>\n",
       "      <td>-0.137651</td>\n",
       "      <td>0.093276</td>\n",
       "      <td>...</td>\n",
       "      <td>0.213663</td>\n",
       "      <td>1.739267</td>\n",
       "      <td>2.395913</td>\n",
       "      <td>-1.240209</td>\n",
       "      <td>2.793103</td>\n",
       "      <td>0.346046</td>\n",
       "      <td>-1.452033</td>\n",
       "      <td>-0.028654</td>\n",
       "      <td>0.094451</td>\n",
       "      <td>0.501277</td>\n",
       "    </tr>\n",
       "  </tbody>\n",
       "</table>\n",
       "<p>5 rows × 22 columns</p>\n",
       "</div>"
      ],
      "text/plain": [
       "        PC1       PC2       PC3       PC4       PC5       PC6       PC7  \\\n",
       "0  1.412460 -0.392988 -0.228405 -0.406027  0.006027  0.034436 -0.236285   \n",
       "1  5.104406  1.834187 -1.176723 -0.785854  0.148394  0.910066 -0.688184   \n",
       "2 -0.599578 -0.518549  0.019404 -2.022029  0.006147 -0.089308 -0.251353   \n",
       "3 -0.149624 -0.605479  0.019832  1.475860 -0.107482 -0.377173 -0.461394   \n",
       "4 -1.693566  1.002452  0.715359  1.647585 -0.030536 -0.227489  0.078169   \n",
       "\n",
       "        PC8       PC9      PC10  ...      PC13      PC14      PC15      PC16  \\\n",
       "0 -0.159214  0.048904 -0.254319  ... -0.147841 -0.227555  0.358372  4.420657   \n",
       "1 -0.190636  0.119128 -0.679007  ...  1.118402  1.322087  1.512135 -0.990502   \n",
       "2  0.247358  0.003091 -0.060503  ...  0.330510 -1.921200  1.155577 -0.537097   \n",
       "3 -0.495557  0.160753 -1.230238  ...  3.914927  0.488470 -1.507031  0.104670   \n",
       "4 -0.133987 -0.137651  0.093276  ...  0.213663  1.739267  2.395913 -1.240209   \n",
       "\n",
       "       PC17      PC18      PC19      PC20      PC21      PC22  \n",
       "0  1.808428  0.307179 -0.358078  0.668596 -0.295642 -0.190861  \n",
       "1 -0.419874 -0.294223 -0.112538  0.032200 -0.237126 -0.712469  \n",
       "2  0.046371  3.739185  0.466024 -0.127727 -0.502885 -1.210310  \n",
       "3 -0.590836  0.491952 -0.250376  0.504108 -0.059507  0.192706  \n",
       "4  2.793103  0.346046 -1.452033 -0.028654  0.094451  0.501277  \n",
       "\n",
       "[5 rows x 22 columns]"
      ]
     },
     "execution_count": 25,
     "metadata": {},
     "output_type": "execute_result"
    }
   ],
   "source": [
    "pc_new = PCA(n_components=22)\n",
    "pc_new.fit(x_train_scaled)\n",
    "\n",
    "x_train_scaled_pca = pc_new.transform(x_train_scaled)\n",
    "x_test_scaled_pca = pc_new.transform(x_test_scaled)\n",
    "\n",
    "pca_df_new_train = pd.DataFrame(x_train_scaled_pca,columns = [\"PC1\",\"PC2\",\"PC3\",\"PC4\",\"PC5\",\"PC6\",\"PC7\",\"PC8\",\"PC9\",\"PC10\",\"PC11\",\"PC12\",\"PC13\",\"PC14\",\"PC15\",\"PC16\",\"PC17\",\"PC18\",\"PC19\",\"PC20\",\"PC21\",\"PC22\"])\n",
    "pca_df_new_train.head()"
   ]
  },
  {
   "cell_type": "markdown",
   "metadata": {
    "colab_type": "text",
    "id": "mqwB-0vKx7GB"
   },
   "source": [
    "## RandomForest Regression:"
   ]
  },
  {
   "cell_type": "markdown",
   "metadata": {},
   "source": [
    "RandomForestRegressor"
   ]
  },
  {
   "cell_type": "code",
   "execution_count": 35,
   "metadata": {},
   "outputs": [],
   "source": [
    "#number of trees in random forest\n",
    "n_estimators = [int(x) for x in np.linspace(start=100, stop=1200,num = 12)]\n",
    "\n",
    "#number of features to consider at every split\n",
    "max_features = ['auto','sqrt']\n",
    "\n",
    "#maximum number of levels in tree\n",
    "max_depth = [int(x) for x in np.linspace(5, 30, num=6)]\n",
    "\n",
    "#Minimum number of samples required to split a node\n",
    "min_samples_split = [2, 5, 10, 15, 100]\n",
    "\n",
    "#Minimum number of samples required at each leaf node\n",
    "min_samples_leaf = [1, 2, 5, 10]"
   ]
  },
  {
   "cell_type": "code",
   "execution_count": 36,
   "metadata": {},
   "outputs": [
    {
     "name": "stdout",
     "output_type": "stream",
     "text": [
      "{'n_estimators': [100, 200, 300, 400, 500, 600, 700, 800, 900, 1000, 1100, 1200], 'max_features': ['auto', 'sqrt'], 'max_depth': [5, 10, 15, 20, 25, 30], 'min_samples_split': [2, 5, 10, 15, 100], 'min_samples_leaf': [1, 2, 5, 10]}\n"
     ]
    }
   ],
   "source": [
    "#Create the random grid\n",
    "random_grid = {'n_estimators': n_estimators,'max_features': max_features,'max_depth': max_depth,'min_samples_split': min_samples_split,'min_samples_leaf': min_samples_leaf}\n",
    "\n",
    "print(random_grid)"
   ]
  },
  {
   "cell_type": "code",
   "execution_count": 38,
   "metadata": {
    "colab": {
     "base_uri": "https://localhost:8080/",
     "height": 168
    },
    "colab_type": "code",
    "id": "pT-eZ3t0x91c",
    "outputId": "264fdc28-25bb-45f1-fb8b-d0218be5154e"
   },
   "outputs": [
    {
     "data": {
      "text/plain": [
       "RandomForestRegressor()"
      ]
     },
     "execution_count": 38,
     "metadata": {},
     "output_type": "execute_result"
    }
   ],
   "source": [
    "rf = RandomForestRegressor()\n",
    "\n"
   ]
  },
  {
   "cell_type": "markdown",
   "metadata": {},
   "source": [
    "Select best hyperparameters"
   ]
  },
  {
   "cell_type": "code",
   "execution_count": 44,
   "metadata": {},
   "outputs": [],
   "source": [
    "\n",
    "rf_random = RandomizedSearchCV(estimator=rf, param_distributions=random_grid, scoring='neg_mean_squared_error', n_iter=10, cv=5, verbose=2, random_state=0, n_jobs=1)\n"
   ]
  },
  {
   "cell_type": "code",
   "execution_count": 47,
   "metadata": {},
   "outputs": [
    {
     "data": {
      "text/plain": [
       "array([28.1, 29. , 25.4, ..., 27.9, 29.7, 25.6])"
      ]
     },
     "execution_count": 47,
     "metadata": {},
     "output_type": "execute_result"
    }
   ],
   "source": [
    "y_train"
   ]
  },
  {
   "cell_type": "code",
   "execution_count": 48,
   "metadata": {},
   "outputs": [
    {
     "name": "stdout",
     "output_type": "stream",
     "text": [
      "Fitting 5 folds for each of 10 candidates, totalling 50 fits\n",
      "[CV] END max_depth=30, max_features=sqrt, min_samples_leaf=2, min_samples_split=10, n_estimators=900; total time=   2.9s\n",
      "[CV] END max_depth=30, max_features=sqrt, min_samples_leaf=2, min_samples_split=10, n_estimators=900; total time=   3.3s\n",
      "[CV] END max_depth=30, max_features=sqrt, min_samples_leaf=2, min_samples_split=10, n_estimators=900; total time=   3.4s\n",
      "[CV] END max_depth=30, max_features=sqrt, min_samples_leaf=2, min_samples_split=10, n_estimators=900; total time=   3.1s\n",
      "[CV] END max_depth=30, max_features=sqrt, min_samples_leaf=2, min_samples_split=10, n_estimators=900; total time=   3.3s\n",
      "[CV] END max_depth=30, max_features=auto, min_samples_leaf=10, min_samples_split=10, n_estimators=400; total time=   4.0s\n",
      "[CV] END max_depth=30, max_features=auto, min_samples_leaf=10, min_samples_split=10, n_estimators=400; total time=   3.3s\n",
      "[CV] END max_depth=30, max_features=auto, min_samples_leaf=10, min_samples_split=10, n_estimators=400; total time=   4.0s\n",
      "[CV] END max_depth=30, max_features=auto, min_samples_leaf=10, min_samples_split=10, n_estimators=400; total time=   3.9s\n",
      "[CV] END max_depth=30, max_features=auto, min_samples_leaf=10, min_samples_split=10, n_estimators=400; total time=   3.9s\n",
      "[CV] END max_depth=20, max_features=auto, min_samples_leaf=10, min_samples_split=10, n_estimators=1000; total time=   9.8s\n",
      "[CV] END max_depth=20, max_features=auto, min_samples_leaf=10, min_samples_split=10, n_estimators=1000; total time=   7.8s\n",
      "[CV] END max_depth=20, max_features=auto, min_samples_leaf=10, min_samples_split=10, n_estimators=1000; total time=   8.6s\n",
      "[CV] END max_depth=20, max_features=auto, min_samples_leaf=10, min_samples_split=10, n_estimators=1000; total time=   8.5s\n",
      "[CV] END max_depth=20, max_features=auto, min_samples_leaf=10, min_samples_split=10, n_estimators=1000; total time=  10.0s\n",
      "[CV] END max_depth=10, max_features=sqrt, min_samples_leaf=2, min_samples_split=100, n_estimators=800; total time=   2.2s\n",
      "[CV] END max_depth=10, max_features=sqrt, min_samples_leaf=2, min_samples_split=100, n_estimators=800; total time=   2.7s\n",
      "[CV] END max_depth=10, max_features=sqrt, min_samples_leaf=2, min_samples_split=100, n_estimators=800; total time=   1.9s\n",
      "[CV] END max_depth=10, max_features=sqrt, min_samples_leaf=2, min_samples_split=100, n_estimators=800; total time=   2.7s\n",
      "[CV] END max_depth=10, max_features=sqrt, min_samples_leaf=2, min_samples_split=100, n_estimators=800; total time=   1.7s\n",
      "[CV] END max_depth=10, max_features=sqrt, min_samples_leaf=1, min_samples_split=15, n_estimators=800; total time=   2.9s\n",
      "[CV] END max_depth=10, max_features=sqrt, min_samples_leaf=1, min_samples_split=15, n_estimators=800; total time=   3.2s\n",
      "[CV] END max_depth=10, max_features=sqrt, min_samples_leaf=1, min_samples_split=15, n_estimators=800; total time=   2.9s\n",
      "[CV] END max_depth=10, max_features=sqrt, min_samples_leaf=1, min_samples_split=15, n_estimators=800; total time=   2.4s\n",
      "[CV] END max_depth=10, max_features=sqrt, min_samples_leaf=1, min_samples_split=15, n_estimators=800; total time=   3.1s\n",
      "[CV] END max_depth=20, max_features=sqrt, min_samples_leaf=1, min_samples_split=100, n_estimators=400; total time=   0.8s\n",
      "[CV] END max_depth=20, max_features=sqrt, min_samples_leaf=1, min_samples_split=100, n_estimators=400; total time=   0.9s\n",
      "[CV] END max_depth=20, max_features=sqrt, min_samples_leaf=1, min_samples_split=100, n_estimators=400; total time=   0.8s\n",
      "[CV] END max_depth=20, max_features=sqrt, min_samples_leaf=1, min_samples_split=100, n_estimators=400; total time=   0.9s\n",
      "[CV] END max_depth=20, max_features=sqrt, min_samples_leaf=1, min_samples_split=100, n_estimators=400; total time=   0.7s\n",
      "[CV] END max_depth=15, max_features=auto, min_samples_leaf=2, min_samples_split=5, n_estimators=200; total time=   2.1s\n",
      "[CV] END max_depth=15, max_features=auto, min_samples_leaf=2, min_samples_split=5, n_estimators=200; total time=   2.0s\n",
      "[CV] END max_depth=15, max_features=auto, min_samples_leaf=2, min_samples_split=5, n_estimators=200; total time=   2.0s\n",
      "[CV] END max_depth=15, max_features=auto, min_samples_leaf=2, min_samples_split=5, n_estimators=200; total time=   2.1s\n",
      "[CV] END max_depth=15, max_features=auto, min_samples_leaf=2, min_samples_split=5, n_estimators=200; total time=   2.0s\n",
      "[CV] END max_depth=5, max_features=sqrt, min_samples_leaf=1, min_samples_split=15, n_estimators=200; total time=   0.3s\n",
      "[CV] END max_depth=5, max_features=sqrt, min_samples_leaf=1, min_samples_split=15, n_estimators=200; total time=   0.3s\n",
      "[CV] END max_depth=5, max_features=sqrt, min_samples_leaf=1, min_samples_split=15, n_estimators=200; total time=   0.3s\n",
      "[CV] END max_depth=5, max_features=sqrt, min_samples_leaf=1, min_samples_split=15, n_estimators=200; total time=   0.3s\n",
      "[CV] END max_depth=5, max_features=sqrt, min_samples_leaf=1, min_samples_split=15, n_estimators=200; total time=   0.3s\n",
      "[CV] END max_depth=20, max_features=sqrt, min_samples_leaf=2, min_samples_split=15, n_estimators=300; total time=   0.7s\n",
      "[CV] END max_depth=20, max_features=sqrt, min_samples_leaf=2, min_samples_split=15, n_estimators=300; total time=   0.7s\n",
      "[CV] END max_depth=20, max_features=sqrt, min_samples_leaf=2, min_samples_split=15, n_estimators=300; total time=   0.7s\n",
      "[CV] END max_depth=20, max_features=sqrt, min_samples_leaf=2, min_samples_split=15, n_estimators=300; total time=   0.7s\n",
      "[CV] END max_depth=20, max_features=sqrt, min_samples_leaf=2, min_samples_split=15, n_estimators=300; total time=   0.7s\n",
      "[CV] END max_depth=20, max_features=sqrt, min_samples_leaf=5, min_samples_split=10, n_estimators=500; total time=   1.2s\n",
      "[CV] END max_depth=20, max_features=sqrt, min_samples_leaf=5, min_samples_split=10, n_estimators=500; total time=   1.2s\n",
      "[CV] END max_depth=20, max_features=sqrt, min_samples_leaf=5, min_samples_split=10, n_estimators=500; total time=   1.2s\n",
      "[CV] END max_depth=20, max_features=sqrt, min_samples_leaf=5, min_samples_split=10, n_estimators=500; total time=   1.2s\n",
      "[CV] END max_depth=20, max_features=sqrt, min_samples_leaf=5, min_samples_split=10, n_estimators=500; total time=   1.2s\n"
     ]
    },
    {
     "data": {
      "text/plain": [
       "RandomizedSearchCV(cv=5, estimator=RandomForestRegressor(), n_jobs=1,\n",
       "                   param_distributions={'max_depth': [5, 10, 15, 20, 25, 30],\n",
       "                                        'max_features': ['auto', 'sqrt'],\n",
       "                                        'min_samples_leaf': [1, 2, 5, 10],\n",
       "                                        'min_samples_split': [2, 5, 10, 15,\n",
       "                                                              100],\n",
       "                                        'n_estimators': [100, 200, 300, 400,\n",
       "                                                         500, 600, 700, 800,\n",
       "                                                         900, 1000, 1100,\n",
       "                                                         1200]},\n",
       "                   random_state=0, scoring='neg_mean_squared_error', verbose=2)"
      ]
     },
     "execution_count": 48,
     "metadata": {},
     "output_type": "execute_result"
    }
   ],
   "source": [
    "rf_random.fit(x_train_scaled_pca, y_train)"
   ]
  },
  {
   "cell_type": "code",
   "execution_count": 50,
   "metadata": {},
   "outputs": [],
   "source": [
    "predictions = rf.predict(x_test_scaled_pca)"
   ]
  },
  {
   "cell_type": "code",
   "execution_count": 57,
   "metadata": {},
   "outputs": [
    {
     "data": {
      "text/plain": [
       "<matplotlib.collections.PathCollection at 0x238aa6f0e20>"
      ]
     },
     "execution_count": 57,
     "metadata": {},
     "output_type": "execute_result"
    },
    {
     "data": {
      "image/png": "[encoded data removed]",
      "text/plain": [
       "<Figure size 432x288 with 1 Axes>"
      ]
     },
     "metadata": {},
     "output_type": "display_data"
    }
   ],
   "source": [
    "plt.scatter(y_test,predictions)"
   ]
  },
  {
   "cell_type": "code",
   "execution_count": 58,
   "metadata": {},
   "outputs": [],
   "source": [
    "#saving model\n",
    "file = open('random_forest_regression.pkl','wb')\n",
    "pickle.dump(rf, file)"
   ]
  },
  {
   "cell_type": "code",
   "execution_count": null,
   "metadata": {},
   "outputs": [],
   "source": []
  }
 ],
 "metadata": {
  "colab": {
   "collapsed_sections": [],
   "include_colab_link": true,
   "name": "CropPrediction(Regression).ipynb",
   "provenance": [],
   "version": "0.3.2"
  },
  "kernelspec": {
   "display_name": "Python 3",
   "language": "python",
   "name": "python3"
  },
  "language_info": {
   "codemirror_mode": {
    "name": "ipython",
    "version": 3
   },
   "file_extension": ".py",
   "mimetype": "text/x-python",
   "name": "python",
   "nbconvert_exporter": "python",
   "pygments_lexer": "ipython3",
   "version": "3.8.8"
  }
 },
 "nbformat": 4,
 "nbformat_minor": 1
}
